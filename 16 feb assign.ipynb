{
 "cells": [
  {
   "cell_type": "markdown",
   "id": "3eda5a44-f143-4e48-a9f6-ed08c55e41f0",
   "metadata": {},
   "source": [
    "## Q1. What is a database? Differentiate between SQL and NoSQL databases."
   ]
  },
  {
   "cell_type": "markdown",
   "id": "2ac1d8c8-0be3-41b3-af7e-bcbc1f75bdcf",
   "metadata": {},
   "source": [
    "A database is a structured collection of data that is orgaized and stred in an efficient manner which even allows for us to retrive, update and analyze the data.\n",
    "DIFFERENCE \n",
    "\n",
    "SQL:It is a structured query language which allows to have databases and stores tables in it and that's why it is also known as relational database which is based on relational data model and the connection between tables is established with the help of keys.They are not preffered when the data is semi structured or unstructured.\n",
    "\n",
    "NOSQL: They are also known as non relational databases because of their ability to handle unstructured and semi structured data effectively.It provides flexibility in data models and use a widw variety of query languages and emphasizes on scalibility and performance."
   ]
  },
  {
   "cell_type": "markdown",
   "id": "f4241531-1c1c-4402-989b-24eb9e5219da",
   "metadata": {},
   "source": [
    "## Q2. What is DDL? Explain why CREATE, DROP, ALTER, and TRUNCATE are used with an example."
   ]
  },
  {
   "cell_type": "markdown",
   "id": "9ffa5140-ada6-469a-ba2b-ded136baa4d9",
   "metadata": {},
   "source": [
    "DDL stands for Data Definition Language. It is a subset of SQL (Structured Query Language) used to define and manage the structure of a database and its objects. DDL statements are used to create, modify, and delete database objects such as tables, indexes, views, and schemas. \n",
    "\n",
    "CREATE:\n",
    "The CREATE statement is used to create new database objects, such as tables, views, indexes, or schemas. It specifies the name of the object, its structure, and any constraints associated with it.\n",
    "\n",
    "CREATE TABLE employees (\n",
    "  id INT PRIMARY KEY,\n",
    "  name VARCHAR(100),\n",
    "  age INT,\n",
    "  department VARCHAR(50)\n",
    ");\n",
    "\n",
    "DROP:\n",
    "The DROP statement is used to remove an existing database object, such as a table, view, index, or schema. It permanently deletes the object and its associated data from the database.\n",
    "\n",
    "DROP TABLE employees;\n",
    "\n",
    "ALTER:\n",
    "The ALTER statement is used to modify the structure of an existing database object. It allows you to add, modify, or delete columns, constraints, or other properties of the object.\n",
    "\n",
    "ALTER TABLE employees\n",
    "ADD COLUMN salary DECIMAL(10,2);\n",
    "\n",
    "\n",
    "TRUNCATE:\n",
    "The TRUNCATE statement is used to remove all rows from a table, effectively resetting the table to an empty state. Unlike the DROP statement, TRUNCATE retains the table structure and can be faster than deleting rows one by one.\n",
    "\n",
    "TRUNCATE TABLE employees;\n",
    "\n"
   ]
  },
  {
   "cell_type": "markdown",
   "id": "f9382c37-9676-4995-b8cc-e7bc12c1fe66",
   "metadata": {},
   "source": [
    "## Q3. What is DML? Explain INSERT, UPDATE, and DELETE with an example."
   ]
  },
  {
   "cell_type": "markdown",
   "id": "e250901a-14c2-4a50-9acc-cbbbc146a722",
   "metadata": {},
   "source": [
    "DML stands for Data Manipulation Language. It is a subset of SQL (Structured Query Language) used to manipulate and work with the data stored in a database. DML statements are used to insert, update, and delete data from database tables.\n",
    "\n",
    "INSERT:\n",
    "The INSERT statement is used to insert new rows of data into a table. It specifies the table name and the values to be inserted into the respective columns. \n",
    "\n",
    "INSERT INTO employees (id, name, age, department)\n",
    "VALUES (1, 'John Doe', 30, 'IT');\n",
    "\n",
    "UPDATE:\n",
    "The UPDATE statement is used to modify existing data in a table. It allows you to update one or more columns of one or multiple rows based on specified conditions. \n",
    "\n",
    "UPDATE employees\n",
    "SET department = 'HR'\n",
    "WHERE id = 1;\n",
    "\n",
    "DELETE:\n",
    "The DELETE statement is used to remove one or more rows from a table based on specified conditions. It permanently removes the data from the table. \n",
    "\n",
    "DELETE FROM employees\n",
    "WHERE id = 1;\n"
   ]
  },
  {
   "cell_type": "markdown",
   "id": "32096156-9b94-40e1-8403-899607437791",
   "metadata": {},
   "source": [
    "## Q4. What is DQL? Explain SELECT with an example."
   ]
  },
  {
   "cell_type": "markdown",
   "id": "6a8cea8d-e5c3-4331-89c0-38c00f64e07d",
   "metadata": {},
   "source": [
    "DQL stands for Data Query Language. It is a subset of SQL (Structured Query Language) used to retrieve data from a database. DQL statements, primarily the SELECT statement, are used to query the database and retrieve specific information based on specified conditions.\n",
    "\n",
    "SELECT:\n",
    "The SELECT statement is used to retrieve data from one or more tables in a database. It allows you to specify the columns to be retrieved, the table(s) to query, and optional conditions to filter the data.\n",
    "\n",
    "SELECT column1, column2, ...\n",
    "FROM table_name;\n",
    "\n",
    "\n",
    "To retrieve all columns, you can use the asterisk (*) wildcard character:\n",
    "\n",
    "SELECT *\n",
    "FROM table_name;\n",
    "\n",
    "SELECT with WHERE Clause:\n",
    "The WHERE clause is used to specify conditions that filter the rows retrieved by the SELECT statement.\n",
    "\n",
    "SELECT *\n",
    "FROM employees\n",
    "WHERE department = 'IT' AND age > 25;\n",
    "\n",
    "SELECT with ORDER BY Clause:\n",
    "The ORDER BY clause is used to sort the retrieved data in ascending or descending order based on one or more columns. \n",
    "\n",
    "SELECT *\n",
    "FROM employees\n",
    "ORDER BY department ASC, age DESC;\n",
    "\n",
    "SELECT with LIMIT Clause:\n",
    "The LIMIT clause is used to limit the number of rows returned by the SELECT statement.\n",
    "\n",
    "SELECT *\n",
    "FROM employees\n",
    "LIMIT 10;\n"
   ]
  },
  {
   "cell_type": "markdown",
   "id": "5c388359-0a36-488b-a67f-94fdfa8a14a6",
   "metadata": {},
   "source": [
    "## Q5. Explain Primary Key and Foreign Key."
   ]
  },
  {
   "cell_type": "markdown",
   "id": "b19dd8fc-dcc0-4389-a93c-2bbb434b871a",
   "metadata": {},
   "source": [
    "Primary Key:\n",
    "A primary key is a column or a combination of columns in a database table that uniquely identifies each row. It ensures that each row in a table has a unique identifier, and no two rows can have the same primary key value. Primary keys have the following characteristics:\n",
    "\n",
    "Uniqueness: Each value in the primary key column(s) must be unique within the table.\n",
    "Non-nullability: Primary key values cannot be NULL, meaning they must have a valid value for every row.\n",
    "Stability: Primary key values should generally remain constant and not change over time.\n",
    "Primary keys play a vital role in ensuring data integrity and are used to establish relationships with other tables through foreign keys.\n",
    "\n",
    "Foreign Key:\n",
    "A foreign key is a column or a combination of columns in a database table that refers to the primary key of another table. It establishes a relationship between two tables, allowing data in one table to reference data in another table. Foreign keys have the following characteristics:\n",
    "Referential Integrity: Foreign keys enforce referential integrity, ensuring that the values in the foreign key column(s) correspond to existing values in the primary key column(s) of the referenced table.\n",
    "Relationship: A foreign key establishes a relationship between two tables, indicating that the values in the foreign key column(s) are related to the values in the primary key column(s) of the referenced table.\n",
    "Cascading Actions: Foreign keys can be configured to perform cascading actions such as cascading deletes or updates. For example, if a row in the referenced table is deleted, the corresponding rows in the table with the foreign key can also be deleted (cascade delete).\n",
    "\n",
    "Here's an example to illustrate the concept of primary key and foreign key:\n",
    "\n",
    "Consider two tables, \"Orders\" and \"Customers\". The \"Orders\" table has a foreign key referencing the primary key of the \"Customers\" table.\n",
    "\n",
    "Customers Table:\n",
    "+----+-------------+-----------+\n",
    "| ID |  Name       |  Address  |\n",
    "+----+-------------+-----------+\n",
    "|  1 | John Doe    | 123 Street|\n",
    "|  2 | Jane Smith  | 456 Avenue|\n",
    "+----+-------------+-----------+\n",
    "\n",
    "Orders Table:\n",
    "\n",
    "+----+-------------+---------+--------+\n",
    "| ID | OrderNumber |  Amount | CustID |\n",
    "+----+-------------+---------+--------+\n",
    "|  1 |   1001      |  $100   |   1    |\n",
    "|  2 |   1002      |  $200   |   2    |\n",
    "+----+-------------+---------+--------+\n",
    "In this example, the \"Customers\" table has a primary key column \"ID\", which uniquely identifies each customer. The \"Orders\" table has a foreign key column \"CustID\", which references the \"ID\" column of the \"Customers\" table. This establishes a relationship between the two tables.\n",
    "\n",
    "The foreign key constraint ensures that the values in the \"CustID\" column of the \"Orders\" table must match the values in the \"ID\" column of the \"Customers\" table. This relationship allows you to retrieve orders for a specific customer or perform joins between the two tables to retrieve combined information."
   ]
  },
  {
   "cell_type": "markdown",
   "id": "8adcd774-4749-4b87-8a88-bd44c6972224",
   "metadata": {},
   "source": [
    "## Q6. Write a python code to connect MySQL to python. Explain the cursor() and execute() method."
   ]
  },
  {
   "cell_type": "markdown",
   "id": "76eabf1a-063b-4612-9b66-4f72061f39b9",
   "metadata": {},
   "source": [
    "pip install mysql-connector-python\n",
    "import mysql.connector\n",
    "\n",
    "### Establishing the connection\n",
    "mydb = mysql.connector.connect(\n",
    "  host=\"localhost\",\n",
    "  user=\"your_username\",\n",
    "  password=\"your_password\",\n",
    "  database=\"your_database\"\n",
    ")\n",
    "\n",
    "### Creating a cursor object\n",
    "mycursor = mydb.cursor()\n",
    "\n",
    "### Executing a query\n",
    "mycursor.execute(\"SELECT * FROM your_table\")\n",
    "\n",
    "### Fetching the results\n",
    "results = mycursor.fetchall()\n",
    "\n",
    "### Displaying the results\n",
    "for row in results:\n",
    "    print(row)\n",
    "\n",
    "### Closing the cursor and connection\n",
    "mycursor.close()\n",
    "mydb.close()\n",
    "\n",
    "The cursor() method creates a cursor object to interact with the database, and the execute() method is used to execute SQL queries or statements. The cursor object enables you to fetch and manipulate data from the database."
   ]
  },
  {
   "cell_type": "markdown",
   "id": "9ab83d6d-8913-4247-9b20-2e305335d27c",
   "metadata": {},
   "source": [
    "## Q7. Give the order of execution of SQL clauses in an SQL query."
   ]
  },
  {
   "cell_type": "markdown",
   "id": "dad23d4b-9ca9-4361-a905-7d285e1322ca",
   "metadata": {},
   "source": [
    "The order of execution of SQL clauses in an SQL query typically follows the following sequence:\n",
    "\n",
    "FROM clause: Specifies the table(s) from which the data will be retrieved.\n",
    "\n",
    "WHERE clause: Filters the rows based on specified conditions. Rows that satisfy the conditions in the WHERE clause are included in the result set.\n",
    "\n",
    "GROUP BY clause: Groups the rows into sets based on specified columns. This clause is typically used in combination with aggregate functions like COUNT, SUM, AVG, etc.\n",
    "\n",
    "HAVING clause: Filters the grouped rows based on specified conditions. It is similar to the WHERE clause but is applied after the GROUP BY clause.\n",
    "\n",
    "SELECT clause: Specifies the columns to be included in the result set. This clause can include column aliases, calculations, or expressions.\n",
    "\n",
    "ORDER BY clause: Sorts the result set based on specified columns in ascending or descending order.\n",
    "\n",
    "LIMIT/OFFSET clause: Limits the number of rows returned by the query or specifies the starting position of the result set."
   ]
  },
  {
   "cell_type": "code",
   "execution_count": null,
   "id": "d9b6248f-9920-4803-af1a-353272c9249f",
   "metadata": {},
   "outputs": [],
   "source": []
  }
 ],
 "metadata": {
  "kernelspec": {
   "display_name": "Python 3 (ipykernel)",
   "language": "python",
   "name": "python3"
  },
  "language_info": {
   "codemirror_mode": {
    "name": "ipython",
    "version": 3
   },
   "file_extension": ".py",
   "mimetype": "text/x-python",
   "name": "python",
   "nbconvert_exporter": "python",
   "pygments_lexer": "ipython3",
   "version": "3.10.8"
  }
 },
 "nbformat": 4,
 "nbformat_minor": 5
}
